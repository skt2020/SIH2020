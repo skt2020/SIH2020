{
 "cells": [
  {
   "cell_type": "code",
   "execution_count": 1,
   "metadata": {},
   "outputs": [
    {
     "name": "stderr",
     "output_type": "stream",
     "text": [
      "C:\\ProgramData\\Anaconda3\\lib\\site-packages\\sklearn\\utils\\deprecation.py:143: FutureWarning: The sklearn.datasets.samples_generator module is  deprecated in version 0.22 and will be removed in version 0.24. The corresponding classes / functions should instead be imported from sklearn.datasets. Anything that cannot be imported from sklearn.datasets is now part of the private API.\n",
      "  warnings.warn(message, FutureWarning)\n"
     ]
    }
   ],
   "source": [
    "import random \n",
    "import numpy as np \n",
    "import pandas as pd \n",
    "import matplotlib.pyplot as plt \n",
    "from sklearn.cluster import KMeans \n",
    "from sklearn.datasets.samples_generator import make_blobs \n",
    "%matplotlib inline"
   ]
  },
  {
   "cell_type": "code",
   "execution_count": 2,
   "metadata": {},
   "outputs": [
    {
     "data": {
      "text/html": [
       "<div>\n",
       "<style scoped>\n",
       "    .dataframe tbody tr th:only-of-type {\n",
       "        vertical-align: middle;\n",
       "    }\n",
       "\n",
       "    .dataframe tbody tr th {\n",
       "        vertical-align: top;\n",
       "    }\n",
       "\n",
       "    .dataframe thead th {\n",
       "        text-align: right;\n",
       "    }\n",
       "</style>\n",
       "<table border=\"1\" class=\"dataframe\">\n",
       "  <thead>\n",
       "    <tr style=\"text-align: right;\">\n",
       "      <th></th>\n",
       "      <th>Latitude</th>\n",
       "      <th>Longitude</th>\n",
       "      <th>altitude</th>\n",
       "      <th>Distance</th>\n",
       "      <th>Pitch angle</th>\n",
       "      <th>Velocity</th>\n",
       "      <th>Time(secs)</th>\n",
       "      <th>Acceleration</th>\n",
       "    </tr>\n",
       "  </thead>\n",
       "  <tbody>\n",
       "    <tr>\n",
       "      <th>0</th>\n",
       "      <td>37.285535</td>\n",
       "      <td>125.976853</td>\n",
       "      <td>390.00</td>\n",
       "      <td>806.0000</td>\n",
       "      <td>-166.714286</td>\n",
       "      <td>8.663723</td>\n",
       "      <td>605.5</td>\n",
       "      <td>14.308378</td>\n",
       "    </tr>\n",
       "    <tr>\n",
       "      <th>1</th>\n",
       "      <td>31.032830</td>\n",
       "      <td>-120.517269</td>\n",
       "      <td>10417.33</td>\n",
       "      <td>542.4081</td>\n",
       "      <td>-9.000000</td>\n",
       "      <td>886.000000</td>\n",
       "      <td>522.0</td>\n",
       "      <td>1697.318008</td>\n",
       "    </tr>\n",
       "    <tr>\n",
       "      <th>2</th>\n",
       "      <td>38.996693</td>\n",
       "      <td>127.494248</td>\n",
       "      <td>387.00</td>\n",
       "      <td>881.0000</td>\n",
       "      <td>-343.821429</td>\n",
       "      <td>7.812535</td>\n",
       "      <td>947.5</td>\n",
       "      <td>8.245419</td>\n",
       "    </tr>\n",
       "    <tr>\n",
       "      <th>3</th>\n",
       "      <td>32.001859</td>\n",
       "      <td>-120.193566</td>\n",
       "      <td>10412.03</td>\n",
       "      <td>422.1578</td>\n",
       "      <td>86.000000</td>\n",
       "      <td>883.000000</td>\n",
       "      <td>420.0</td>\n",
       "      <td>2102.380952</td>\n",
       "    </tr>\n",
       "    <tr>\n",
       "      <th>4</th>\n",
       "      <td>37.745461</td>\n",
       "      <td>128.352399</td>\n",
       "      <td>213.00</td>\n",
       "      <td>1142.0000</td>\n",
       "      <td>-380.071429</td>\n",
       "      <td>7.638315</td>\n",
       "      <td>1017.5</td>\n",
       "      <td>7.506944</td>\n",
       "    </tr>\n",
       "  </tbody>\n",
       "</table>\n",
       "</div>"
      ],
      "text/plain": [
       "    Latitude   Longitude  altitude   Distance  Pitch angle    Velocity  \\\n",
       "0  37.285535  125.976853    390.00   806.0000  -166.714286    8.663723   \n",
       "1  31.032830 -120.517269  10417.33   542.4081    -9.000000  886.000000   \n",
       "2  38.996693  127.494248    387.00   881.0000  -343.821429    7.812535   \n",
       "3  32.001859 -120.193566  10412.03   422.1578    86.000000  883.000000   \n",
       "4  37.745461  128.352399    213.00  1142.0000  -380.071429    7.638315   \n",
       "\n",
       "   Time(secs)  Acceleration  \n",
       "0       605.5     14.308378  \n",
       "1       522.0   1697.318008  \n",
       "2       947.5      8.245419  \n",
       "3       420.0   2102.380952  \n",
       "4      1017.5      7.506944  "
      ]
     },
     "execution_count": 2,
     "metadata": {},
     "output_type": "execute_result"
    }
   ],
   "source": [
    "df = pd.read_csv(\"final_data.csv\")\n",
    "df.head()\n"
   ]
  },
  {
   "cell_type": "code",
   "execution_count": 3,
   "metadata": {
    "scrolled": true
   },
   "outputs": [
    {
     "data": {
      "text/plain": [
       "0     806.0000\n",
       "1     542.4081\n",
       "2     881.0000\n",
       "3     422.1578\n",
       "4    1142.0000\n",
       "Name: Distance, dtype: float64"
      ]
     },
     "execution_count": 3,
     "metadata": {},
     "output_type": "execute_result"
    }
   ],
   "source": [
    "df['Distance'].head()"
   ]
  },
  {
   "cell_type": "code",
   "execution_count": 4,
   "metadata": {
    "scrolled": true
   },
   "outputs": [
    {
     "data": {
      "text/html": [
       "<div>\n",
       "<style scoped>\n",
       "    .dataframe tbody tr th:only-of-type {\n",
       "        vertical-align: middle;\n",
       "    }\n",
       "\n",
       "    .dataframe tbody tr th {\n",
       "        vertical-align: top;\n",
       "    }\n",
       "\n",
       "    .dataframe thead th {\n",
       "        text-align: right;\n",
       "    }\n",
       "</style>\n",
       "<table border=\"1\" class=\"dataframe\">\n",
       "  <thead>\n",
       "    <tr style=\"text-align: right;\">\n",
       "      <th></th>\n",
       "      <th>Latitude</th>\n",
       "      <th>Longitude</th>\n",
       "      <th>altitude</th>\n",
       "      <th>Distance</th>\n",
       "      <th>Pitch angle</th>\n",
       "      <th>Velocity</th>\n",
       "      <th>Time(secs)</th>\n",
       "      <th>Acceleration</th>\n",
       "    </tr>\n",
       "  </thead>\n",
       "  <tbody>\n",
       "    <tr>\n",
       "      <th>count</th>\n",
       "      <td>3.910000e+03</td>\n",
       "      <td>3.910000e+03</td>\n",
       "      <td>3910.000000</td>\n",
       "      <td>3902.000000</td>\n",
       "      <td>3910.000000</td>\n",
       "      <td>3910.000000</td>\n",
       "      <td>3910.000000</td>\n",
       "      <td>3910.000000</td>\n",
       "    </tr>\n",
       "    <tr>\n",
       "      <th>mean</th>\n",
       "      <td>1.131247e+08</td>\n",
       "      <td>-2.403995e+08</td>\n",
       "      <td>2056.650280</td>\n",
       "      <td>582.636565</td>\n",
       "      <td>-94.295771</td>\n",
       "      <td>287.647489</td>\n",
       "      <td>1490.799361</td>\n",
       "      <td>967.755631</td>\n",
       "    </tr>\n",
       "    <tr>\n",
       "      <th>std</th>\n",
       "      <td>1.931306e+08</td>\n",
       "      <td>4.104189e+08</td>\n",
       "      <td>3315.871233</td>\n",
       "      <td>508.927542</td>\n",
       "      <td>240.859106</td>\n",
       "      <td>362.381719</td>\n",
       "      <td>1127.952518</td>\n",
       "      <td>9114.591059</td>\n",
       "    </tr>\n",
       "    <tr>\n",
       "      <th>min</th>\n",
       "      <td>0.000000e+00</td>\n",
       "      <td>-9.409027e+08</td>\n",
       "      <td>0.000000</td>\n",
       "      <td>0.000000</td>\n",
       "      <td>-798.500000</td>\n",
       "      <td>5.000000</td>\n",
       "      <td>1.500000</td>\n",
       "      <td>3.082620</td>\n",
       "    </tr>\n",
       "    <tr>\n",
       "      <th>25%</th>\n",
       "      <td>3.465828e+01</td>\n",
       "      <td>-9.409027e+08</td>\n",
       "      <td>6.000000</td>\n",
       "      <td>187.000000</td>\n",
       "      <td>-233.000000</td>\n",
       "      <td>56.552500</td>\n",
       "      <td>639.125000</td>\n",
       "      <td>28.707108</td>\n",
       "    </tr>\n",
       "    <tr>\n",
       "      <th>50%</th>\n",
       "      <td>5.337791e+01</td>\n",
       "      <td>-1.181339e+02</td>\n",
       "      <td>720.390000</td>\n",
       "      <td>353.000000</td>\n",
       "      <td>-53.000000</td>\n",
       "      <td>103.315000</td>\n",
       "      <td>1275.750000</td>\n",
       "      <td>61.138669</td>\n",
       "    </tr>\n",
       "    <tr>\n",
       "      <th>75%</th>\n",
       "      <td>4.427601e+08</td>\n",
       "      <td>-1.132914e+02</td>\n",
       "      <td>1247.750000</td>\n",
       "      <td>920.677325</td>\n",
       "      <td>66.000000</td>\n",
       "      <td>880.000000</td>\n",
       "      <td>1955.750000</td>\n",
       "      <td>522.163902</td>\n",
       "    </tr>\n",
       "    <tr>\n",
       "      <th>max</th>\n",
       "      <td>4.427601e+08</td>\n",
       "      <td>1.296667e+02</td>\n",
       "      <td>10425.460000</td>\n",
       "      <td>2069.192000</td>\n",
       "      <td>359.400000</td>\n",
       "      <td>920.000000</td>\n",
       "      <td>4995.000000</td>\n",
       "      <td>441000.000000</td>\n",
       "    </tr>\n",
       "  </tbody>\n",
       "</table>\n",
       "</div>"
      ],
      "text/plain": [
       "           Latitude     Longitude      altitude     Distance  Pitch angle  \\\n",
       "count  3.910000e+03  3.910000e+03   3910.000000  3902.000000  3910.000000   \n",
       "mean   1.131247e+08 -2.403995e+08   2056.650280   582.636565   -94.295771   \n",
       "std    1.931306e+08  4.104189e+08   3315.871233   508.927542   240.859106   \n",
       "min    0.000000e+00 -9.409027e+08      0.000000     0.000000  -798.500000   \n",
       "25%    3.465828e+01 -9.409027e+08      6.000000   187.000000  -233.000000   \n",
       "50%    5.337791e+01 -1.181339e+02    720.390000   353.000000   -53.000000   \n",
       "75%    4.427601e+08 -1.132914e+02   1247.750000   920.677325    66.000000   \n",
       "max    4.427601e+08  1.296667e+02  10425.460000  2069.192000   359.400000   \n",
       "\n",
       "          Velocity   Time(secs)   Acceleration  \n",
       "count  3910.000000  3910.000000    3910.000000  \n",
       "mean    287.647489  1490.799361     967.755631  \n",
       "std     362.381719  1127.952518    9114.591059  \n",
       "min       5.000000     1.500000       3.082620  \n",
       "25%      56.552500   639.125000      28.707108  \n",
       "50%     103.315000  1275.750000      61.138669  \n",
       "75%     880.000000  1955.750000     522.163902  \n",
       "max     920.000000  4995.000000  441000.000000  "
      ]
     },
     "execution_count": 4,
     "metadata": {},
     "output_type": "execute_result"
    }
   ],
   "source": [
    "df.describe()"
   ]
  },
  {
   "cell_type": "code",
   "execution_count": 5,
   "metadata": {},
   "outputs": [
    {
     "data": {
      "text/plain": [
       "Latitude        3910\n",
       "Longitude       3910\n",
       "altitude        3910\n",
       "Distance        3902\n",
       "Pitch angle     3910\n",
       "Velocity        3910\n",
       "Time(secs)      3910\n",
       "Acceleration    3910\n",
       "dtype: int64"
      ]
     },
     "execution_count": 5,
     "metadata": {},
     "output_type": "execute_result"
    }
   ],
   "source": [
    "df.count()"
   ]
  },
  {
   "cell_type": "code",
   "execution_count": 6,
   "metadata": {},
   "outputs": [
    {
     "data": {
      "text/plain": [
       "Latitude        3910\n",
       "Longitude       3910\n",
       "altitude        3910\n",
       "Distance        3910\n",
       "Pitch angle     3910\n",
       "Velocity        3910\n",
       "Time(secs)      3910\n",
       "Acceleration    3910\n",
       "dtype: int64"
      ]
     },
     "execution_count": 6,
     "metadata": {},
     "output_type": "execute_result"
    }
   ],
   "source": [
    "df['Distance'].fillna(585,inplace=True)\n",
    "df.count()"
   ]
  },
  {
   "cell_type": "code",
   "execution_count": 7,
   "metadata": {},
   "outputs": [],
   "source": [
    "df2=df.drop(['Latitude','Longitude','Time(secs)'],axis=1)\n"
   ]
  },
  {
   "cell_type": "code",
   "execution_count": null,
   "metadata": {},
   "outputs": [],
   "source": []
  },
  {
   "cell_type": "code",
   "execution_count": 8,
   "metadata": {
    "scrolled": true
   },
   "outputs": [
    {
     "data": {
      "text/html": [
       "<div>\n",
       "<style scoped>\n",
       "    .dataframe tbody tr th:only-of-type {\n",
       "        vertical-align: middle;\n",
       "    }\n",
       "\n",
       "    .dataframe tbody tr th {\n",
       "        vertical-align: top;\n",
       "    }\n",
       "\n",
       "    .dataframe thead th {\n",
       "        text-align: right;\n",
       "    }\n",
       "</style>\n",
       "<table border=\"1\" class=\"dataframe\">\n",
       "  <thead>\n",
       "    <tr style=\"text-align: right;\">\n",
       "      <th></th>\n",
       "      <th>altitude</th>\n",
       "      <th>Distance</th>\n",
       "      <th>Pitch angle</th>\n",
       "      <th>Velocity</th>\n",
       "      <th>Acceleration</th>\n",
       "    </tr>\n",
       "  </thead>\n",
       "  <tbody>\n",
       "    <tr>\n",
       "      <th>0</th>\n",
       "      <td>390.00</td>\n",
       "      <td>806.0000</td>\n",
       "      <td>-166.714286</td>\n",
       "      <td>8.663723</td>\n",
       "      <td>14.308378</td>\n",
       "    </tr>\n",
       "    <tr>\n",
       "      <th>1</th>\n",
       "      <td>10417.33</td>\n",
       "      <td>542.4081</td>\n",
       "      <td>-9.000000</td>\n",
       "      <td>886.000000</td>\n",
       "      <td>1697.318008</td>\n",
       "    </tr>\n",
       "    <tr>\n",
       "      <th>2</th>\n",
       "      <td>387.00</td>\n",
       "      <td>881.0000</td>\n",
       "      <td>-343.821429</td>\n",
       "      <td>7.812535</td>\n",
       "      <td>8.245419</td>\n",
       "    </tr>\n",
       "    <tr>\n",
       "      <th>3</th>\n",
       "      <td>10412.03</td>\n",
       "      <td>422.1578</td>\n",
       "      <td>86.000000</td>\n",
       "      <td>883.000000</td>\n",
       "      <td>2102.380952</td>\n",
       "    </tr>\n",
       "    <tr>\n",
       "      <th>4</th>\n",
       "      <td>213.00</td>\n",
       "      <td>1142.0000</td>\n",
       "      <td>-380.071429</td>\n",
       "      <td>7.638315</td>\n",
       "      <td>7.506944</td>\n",
       "    </tr>\n",
       "  </tbody>\n",
       "</table>\n",
       "</div>"
      ],
      "text/plain": [
       "   altitude   Distance  Pitch angle    Velocity  Acceleration\n",
       "0    390.00   806.0000  -166.714286    8.663723     14.308378\n",
       "1  10417.33   542.4081    -9.000000  886.000000   1697.318008\n",
       "2    387.00   881.0000  -343.821429    7.812535      8.245419\n",
       "3  10412.03   422.1578    86.000000  883.000000   2102.380952\n",
       "4    213.00  1142.0000  -380.071429    7.638315      7.506944"
      ]
     },
     "execution_count": 8,
     "metadata": {},
     "output_type": "execute_result"
    }
   ],
   "source": [
    "df2.head()"
   ]
  },
  {
   "cell_type": "code",
   "execution_count": 9,
   "metadata": {
    "scrolled": true
   },
   "outputs": [
    {
     "data": {
      "text/plain": [
       "array([[ 0.43938691, -0.300706  , -0.76996006, -0.10462008],\n",
       "       [-0.07914621,  0.35417669,  1.65137757,  0.08005358],\n",
       "       [ 0.58692553, -1.03611434, -0.77230923, -0.10528535],\n",
       "       ...,\n",
       "       [-0.88649344, -0.56348954, -0.27501452, -0.09515861],\n",
       "       [-0.37109188,  1.12443499, -0.57909744, -0.0774391 ],\n",
       "       [ 2.61048845,  0.51196545,  1.64309794, -0.05248167]])"
      ]
     },
     "execution_count": 9,
     "metadata": {},
     "output_type": "execute_result"
    }
   ],
   "source": [
    "from sklearn.preprocessing import StandardScaler\n",
    "X = df2.values[:,1:]\n",
    "X = np.nan_to_num(X)\n",
    "Clus_dataSet = StandardScaler().fit_transform(X)\n",
    "Clus_dataSet"
   ]
  },
  {
   "cell_type": "code",
   "execution_count": 10,
   "metadata": {},
   "outputs": [],
   "source": [
    "# from sklearn.cluster import AgglomerativeClustering\n",
    "# clustering = AgglomerativeClustering().fit(X)\n",
    "# clustering\n",
    "# labels=clustering.labels_\n",
    "# labels"
   ]
  },
  {
   "cell_type": "code",
   "execution_count": 11,
   "metadata": {},
   "outputs": [
    {
     "name": "stderr",
     "output_type": "stream",
     "text": [
      "C:\\ProgramData\\Anaconda3\\lib\\site-packages\\sklearn\\cluster\\_kmeans.py:970: FutureWarning: 'precompute_distances' was deprecated in version 0.23 and will be removed in 0.25. It has no effect\n",
      "  \"effect\", FutureWarning)\n",
      "C:\\ProgramData\\Anaconda3\\lib\\site-packages\\sklearn\\cluster\\_kmeans.py:974: FutureWarning: 'n_jobs' was deprecated in version 0.23 and will be removed in 0.25.\n",
      "  \" removed in 0.25.\", FutureWarning)\n"
     ]
    },
    {
     "name": "stdout",
     "output_type": "stream",
     "text": [
      "[0 0 0 ... 0 0 0]\n"
     ]
    }
   ],
   "source": [
    "clusterNum = 4\n",
    "k_means = KMeans(init = \"k-means++\", n_clusters = clusterNum, \n",
    "                 n_init =15,max_iter=300, tol=0.0001, precompute_distances='auto', verbose=0, \n",
    "                 random_state=1234, copy_x=True, n_jobs=None, algorithm='auto')\n",
    "k_means.fit(X)\n",
    "labels = k_means.labels_\n",
    "print(labels)"
   ]
  },
  {
   "cell_type": "code",
   "execution_count": 12,
   "metadata": {},
   "outputs": [
    {
     "data": {
      "text/plain": [
       "array([0, 0, 0, ..., 0, 0, 0])"
      ]
     },
     "execution_count": 12,
     "metadata": {},
     "output_type": "execute_result"
    }
   ],
   "source": [
    "labels"
   ]
  },
  {
   "cell_type": "code",
   "execution_count": 13,
   "metadata": {},
   "outputs": [
    {
     "data": {
      "text/html": [
       "<div>\n",
       "<style scoped>\n",
       "    .dataframe tbody tr th:only-of-type {\n",
       "        vertical-align: middle;\n",
       "    }\n",
       "\n",
       "    .dataframe tbody tr th {\n",
       "        vertical-align: top;\n",
       "    }\n",
       "\n",
       "    .dataframe thead th {\n",
       "        text-align: right;\n",
       "    }\n",
       "</style>\n",
       "<table border=\"1\" class=\"dataframe\">\n",
       "  <thead>\n",
       "    <tr style=\"text-align: right;\">\n",
       "      <th></th>\n",
       "      <th>altitude</th>\n",
       "      <th>Distance</th>\n",
       "      <th>Pitch angle</th>\n",
       "      <th>Velocity</th>\n",
       "      <th>Acceleration</th>\n",
       "      <th>Cluster</th>\n",
       "    </tr>\n",
       "  </thead>\n",
       "  <tbody>\n",
       "    <tr>\n",
       "      <th>0</th>\n",
       "      <td>390.00</td>\n",
       "      <td>806.0000</td>\n",
       "      <td>-166.714286</td>\n",
       "      <td>8.663723</td>\n",
       "      <td>14.308378</td>\n",
       "      <td>0</td>\n",
       "    </tr>\n",
       "    <tr>\n",
       "      <th>1</th>\n",
       "      <td>10417.33</td>\n",
       "      <td>542.4081</td>\n",
       "      <td>-9.000000</td>\n",
       "      <td>886.000000</td>\n",
       "      <td>1697.318008</td>\n",
       "      <td>0</td>\n",
       "    </tr>\n",
       "    <tr>\n",
       "      <th>2</th>\n",
       "      <td>387.00</td>\n",
       "      <td>881.0000</td>\n",
       "      <td>-343.821429</td>\n",
       "      <td>7.812535</td>\n",
       "      <td>8.245419</td>\n",
       "      <td>0</td>\n",
       "    </tr>\n",
       "    <tr>\n",
       "      <th>3</th>\n",
       "      <td>10412.03</td>\n",
       "      <td>422.1578</td>\n",
       "      <td>86.000000</td>\n",
       "      <td>883.000000</td>\n",
       "      <td>2102.380952</td>\n",
       "      <td>0</td>\n",
       "    </tr>\n",
       "    <tr>\n",
       "      <th>4</th>\n",
       "      <td>213.00</td>\n",
       "      <td>1142.0000</td>\n",
       "      <td>-380.071429</td>\n",
       "      <td>7.638315</td>\n",
       "      <td>7.506944</td>\n",
       "      <td>0</td>\n",
       "    </tr>\n",
       "  </tbody>\n",
       "</table>\n",
       "</div>"
      ],
      "text/plain": [
       "   altitude   Distance  Pitch angle    Velocity  Acceleration  Cluster\n",
       "0    390.00   806.0000  -166.714286    8.663723     14.308378        0\n",
       "1  10417.33   542.4081    -9.000000  886.000000   1697.318008        0\n",
       "2    387.00   881.0000  -343.821429    7.812535      8.245419        0\n",
       "3  10412.03   422.1578    86.000000  883.000000   2102.380952        0\n",
       "4    213.00  1142.0000  -380.071429    7.638315      7.506944        0"
      ]
     },
     "execution_count": 13,
     "metadata": {},
     "output_type": "execute_result"
    }
   ],
   "source": [
    "df2[\"Cluster\"] = labels\n",
    "df2.head(5)"
   ]
  },
  {
   "cell_type": "code",
   "execution_count": 14,
   "metadata": {},
   "outputs": [
    {
     "data": {
      "text/plain": [
       "altitude        21\n",
       "Distance        21\n",
       "Pitch angle     21\n",
       "Velocity        21\n",
       "Acceleration    21\n",
       "Cluster         21\n",
       "dtype: int64"
      ]
     },
     "execution_count": 14,
     "metadata": {},
     "output_type": "execute_result"
    }
   ],
   "source": [
    "df2[df2[\"Cluster\"]==3].count()"
   ]
  },
  {
   "cell_type": "code",
   "execution_count": 15,
   "metadata": {},
   "outputs": [],
   "source": [
    "df2.groupby('Cluster').mean()\n",
    "df2.head()\n",
    "df2.to_csv('Clustered_df.csv')"
   ]
  },
  {
   "cell_type": "code",
   "execution_count": 16,
   "metadata": {},
   "outputs": [
    {
     "data": {
      "text/plain": [
       "Index(['Latitude', 'Longitude', 'altitude', 'Distance', 'Pitch angle',\n",
       "       'Velocity', 'Time(secs)', 'Acceleration'],\n",
       "      dtype='object')"
      ]
     },
     "execution_count": 16,
     "metadata": {},
     "output_type": "execute_result"
    }
   ],
   "source": [
    "df.columns"
   ]
  },
  {
   "cell_type": "code",
   "execution_count": 17,
   "metadata": {},
   "outputs": [
    {
     "data": {
      "text/plain": [
       "array([[ 806.        , -166.7142857 ,    8.6637227 ,   14.3083777 ],\n",
       "       [ 542.4081    ,   -9.        ,  886.        , 1697.318008  ],\n",
       "       [ 881.        , -343.8214286 ,    7.81253495,    8.24541947],\n",
       "       ...,\n",
       "       [ 132.        , -230.        ,  188.        ,  100.5347594 ],\n",
       "       [ 394.        ,  176.5       ,   77.82      ,  262.020202  ],\n",
       "       [1909.661     ,   29.        ,  883.        ,  489.4678492 ]])"
      ]
     },
     "execution_count": 17,
     "metadata": {},
     "output_type": "execute_result"
    }
   ],
   "source": [
    "X"
   ]
  },
  {
   "cell_type": "code",
   "execution_count": 18,
   "metadata": {},
   "outputs": [
    {
     "data": {
      "text/plain": [
       "Index(['altitude', 'Distance', 'Pitch angle', 'Velocity', 'Acceleration',\n",
       "       'Cluster'],\n",
       "      dtype='object')"
      ]
     },
     "execution_count": 18,
     "metadata": {},
     "output_type": "execute_result"
    }
   ],
   "source": [
    "df2.columns"
   ]
  },
  {
   "cell_type": "code",
   "execution_count": 19,
   "metadata": {
    "scrolled": true
   },
   "outputs": [
    {
     "data": {
      "image/png": "[encoded data removed]",
      "text/plain": [
       "<Figure size 432x288 with 1 Axes>"
      ]
     },
     "metadata": {
      "needs_background": "light"
     },
     "output_type": "display_data"
    }
   ],
   "source": [
    "area = np.pi * ( X[:, 0])**2  \n",
    "plt.scatter(X[:, 1], X[:, 0], s=area, c=labels.astype(np.float), alpha=0.5)\n",
    "plt.xlabel('Latitude', fontsize=18)\n",
    "plt.ylabel('Longitude', fontsize=16)\n",
    "\n",
    "plt.show()"
   ]
  },
  {
   "cell_type": "code",
   "execution_count": 20,
   "metadata": {},
   "outputs": [
    {
     "data": {
      "text/plain": [
       "<mpl_toolkits.mplot3d.art3d.Path3DCollection at 0x2dbb65bd390>"
      ]
     },
     "execution_count": 20,
     "metadata": {},
     "output_type": "execute_result"
    },
    {
     "data": {
      "image/png": "[encoded data removed]",
      "text/plain": [
       "<Figure size 576x432 with 1 Axes>"
      ]
     },
     "metadata": {
      "needs_background": "light"
     },
     "output_type": "display_data"
    }
   ],
   "source": [
    "from mpl_toolkits.mplot3d import Axes3D \n",
    "fig = plt.figure(1, figsize=(8, 6))\n",
    "plt.clf()\n",
    "ax = Axes3D(fig, rect=[0, 0, .75, .85], elev=48, azim=134)\n",
    "\n",
    "plt.cla()\n",
    "ax.set_xlabel('Pitch angle')\n",
    "ax.set_ylabel('Velocity')\n",
    "ax.set_zlabel('Acceleration')\n",
    "\n",
    "ax.scatter(X[:, 0], X[:, 1], X[:, 2], c= labels.astype(np.float))\n"
   ]
  },
  {
   "cell_type": "code",
   "execution_count": 21,
   "metadata": {},
   "outputs": [],
   "source": [
    "# import seaborn as sns; sns.set(color_codes=True)\n",
    "# df = sns.load_dataset('Clustered_df.csv')\n",
    "# target = df.pop(\"Cluster\")\n",
    "# g = sns.clustermap(df)"
   ]
  },
  {
   "cell_type": "code",
   "execution_count": 22,
   "metadata": {},
   "outputs": [],
   "source": [
    "import statsmodels.api as sm"
   ]
  },
  {
   "cell_type": "code",
   "execution_count": 23,
   "metadata": {},
   "outputs": [
    {
     "data": {
      "text/html": [
       "<div>\n",
       "<style scoped>\n",
       "    .dataframe tbody tr th:only-of-type {\n",
       "        vertical-align: middle;\n",
       "    }\n",
       "\n",
       "    .dataframe tbody tr th {\n",
       "        vertical-align: top;\n",
       "    }\n",
       "\n",
       "    .dataframe thead th {\n",
       "        text-align: right;\n",
       "    }\n",
       "</style>\n",
       "<table border=\"1\" class=\"dataframe\">\n",
       "  <thead>\n",
       "    <tr style=\"text-align: right;\">\n",
       "      <th></th>\n",
       "      <th>Unnamed: 0</th>\n",
       "      <th>altitude</th>\n",
       "      <th>Distance</th>\n",
       "      <th>Pitch angle</th>\n",
       "      <th>Velocity</th>\n",
       "      <th>Acceleration</th>\n",
       "      <th>Cluster</th>\n",
       "    </tr>\n",
       "  </thead>\n",
       "  <tbody>\n",
       "    <tr>\n",
       "      <th>0</th>\n",
       "      <td>0</td>\n",
       "      <td>390.00</td>\n",
       "      <td>806.0000</td>\n",
       "      <td>-166.714286</td>\n",
       "      <td>8.663723</td>\n",
       "      <td>14.308378</td>\n",
       "      <td>0</td>\n",
       "    </tr>\n",
       "    <tr>\n",
       "      <th>1</th>\n",
       "      <td>1</td>\n",
       "      <td>10417.33</td>\n",
       "      <td>542.4081</td>\n",
       "      <td>-9.000000</td>\n",
       "      <td>886.000000</td>\n",
       "      <td>1697.318008</td>\n",
       "      <td>0</td>\n",
       "    </tr>\n",
       "    <tr>\n",
       "      <th>2</th>\n",
       "      <td>2</td>\n",
       "      <td>387.00</td>\n",
       "      <td>881.0000</td>\n",
       "      <td>-343.821429</td>\n",
       "      <td>7.812535</td>\n",
       "      <td>8.245419</td>\n",
       "      <td>0</td>\n",
       "    </tr>\n",
       "    <tr>\n",
       "      <th>3</th>\n",
       "      <td>3</td>\n",
       "      <td>10412.03</td>\n",
       "      <td>422.1578</td>\n",
       "      <td>86.000000</td>\n",
       "      <td>883.000000</td>\n",
       "      <td>2102.380952</td>\n",
       "      <td>0</td>\n",
       "    </tr>\n",
       "    <tr>\n",
       "      <th>4</th>\n",
       "      <td>4</td>\n",
       "      <td>213.00</td>\n",
       "      <td>1142.0000</td>\n",
       "      <td>-380.071429</td>\n",
       "      <td>7.638315</td>\n",
       "      <td>7.506944</td>\n",
       "      <td>0</td>\n",
       "    </tr>\n",
       "  </tbody>\n",
       "</table>\n",
       "</div>"
      ],
      "text/plain": [
       "   Unnamed: 0  altitude   Distance  Pitch angle    Velocity  Acceleration  \\\n",
       "0           0    390.00   806.0000  -166.714286    8.663723     14.308378   \n",
       "1           1  10417.33   542.4081    -9.000000  886.000000   1697.318008   \n",
       "2           2    387.00   881.0000  -343.821429    7.812535      8.245419   \n",
       "3           3  10412.03   422.1578    86.000000  883.000000   2102.380952   \n",
       "4           4    213.00  1142.0000  -380.071429    7.638315      7.506944   \n",
       "\n",
       "   Cluster  \n",
       "0        0  \n",
       "1        0  \n",
       "2        0  \n",
       "3        0  \n",
       "4        0  "
      ]
     },
     "execution_count": 23,
     "metadata": {},
     "output_type": "execute_result"
    }
   ],
   "source": [
    "df1 = pd.read_csv(\"Clustered_df.csv\")\n",
    "df1.head()"
   ]
  },
  {
   "cell_type": "code",
   "execution_count": 24,
   "metadata": {},
   "outputs": [
    {
     "name": "stdout",
     "output_type": "stream",
     "text": [
      "<class 'pandas.core.frame.DataFrame'>\n",
      "RangeIndex: 3910 entries, 0 to 3909\n",
      "Data columns (total 7 columns):\n",
      "Unnamed: 0      3910 non-null int64\n",
      "altitude        3910 non-null float64\n",
      "Distance        3910 non-null float64\n",
      "Pitch angle     3910 non-null float64\n",
      "Velocity        3910 non-null float64\n",
      "Acceleration    3910 non-null float64\n",
      "Cluster         3910 non-null int64\n",
      "dtypes: float64(5), int64(2)\n",
      "memory usage: 213.9 KB\n"
     ]
    }
   ],
   "source": [
    "df1.info()"
   ]
  },
  {
   "cell_type": "code",
   "execution_count": null,
   "metadata": {},
   "outputs": [],
   "source": []
  },
  {
   "cell_type": "code",
   "execution_count": 25,
   "metadata": {
    "scrolled": true
   },
   "outputs": [
    {
     "data": {
      "text/html": [
       "<div>\n",
       "<style scoped>\n",
       "    .dataframe tbody tr th:only-of-type {\n",
       "        vertical-align: middle;\n",
       "    }\n",
       "\n",
       "    .dataframe tbody tr th {\n",
       "        vertical-align: top;\n",
       "    }\n",
       "\n",
       "    .dataframe thead th {\n",
       "        text-align: right;\n",
       "    }\n",
       "</style>\n",
       "<table border=\"1\" class=\"dataframe\">\n",
       "  <thead>\n",
       "    <tr style=\"text-align: right;\">\n",
       "      <th></th>\n",
       "      <th>Unnamed: 0</th>\n",
       "      <th>altitude</th>\n",
       "      <th>Distance</th>\n",
       "      <th>Pitch angle</th>\n",
       "      <th>Velocity</th>\n",
       "      <th>Acceleration</th>\n",
       "      <th>Cluster</th>\n",
       "    </tr>\n",
       "  </thead>\n",
       "  <tbody>\n",
       "    <tr>\n",
       "      <th>Unnamed: 0</th>\n",
       "      <td>1.000000</td>\n",
       "      <td>0.011730</td>\n",
       "      <td>-0.004682</td>\n",
       "      <td>-0.006497</td>\n",
       "      <td>0.016020</td>\n",
       "      <td>-0.003677</td>\n",
       "      <td>0.015952</td>\n",
       "    </tr>\n",
       "    <tr>\n",
       "      <th>altitude</th>\n",
       "      <td>0.011730</td>\n",
       "      <td>1.000000</td>\n",
       "      <td>0.385070</td>\n",
       "      <td>0.211981</td>\n",
       "      <td>0.809366</td>\n",
       "      <td>0.044259</td>\n",
       "      <td>-0.016643</td>\n",
       "    </tr>\n",
       "    <tr>\n",
       "      <th>Distance</th>\n",
       "      <td>-0.004682</td>\n",
       "      <td>0.385070</td>\n",
       "      <td>1.000000</td>\n",
       "      <td>-0.120772</td>\n",
       "      <td>0.470009</td>\n",
       "      <td>-0.065849</td>\n",
       "      <td>-0.085593</td>\n",
       "    </tr>\n",
       "    <tr>\n",
       "      <th>Pitch angle</th>\n",
       "      <td>-0.006497</td>\n",
       "      <td>0.211981</td>\n",
       "      <td>-0.120772</td>\n",
       "      <td>1.000000</td>\n",
       "      <td>0.240112</td>\n",
       "      <td>0.039662</td>\n",
       "      <td>0.028343</td>\n",
       "    </tr>\n",
       "    <tr>\n",
       "      <th>Velocity</th>\n",
       "      <td>0.016020</td>\n",
       "      <td>0.809366</td>\n",
       "      <td>0.470009</td>\n",
       "      <td>0.240112</td>\n",
       "      <td>1.000000</td>\n",
       "      <td>0.152998</td>\n",
       "      <td>0.118572</td>\n",
       "    </tr>\n",
       "    <tr>\n",
       "      <th>Acceleration</th>\n",
       "      <td>-0.003677</td>\n",
       "      <td>0.044259</td>\n",
       "      <td>-0.065849</td>\n",
       "      <td>0.039662</td>\n",
       "      <td>0.152998</td>\n",
       "      <td>1.000000</td>\n",
       "      <td>0.461454</td>\n",
       "    </tr>\n",
       "    <tr>\n",
       "      <th>Cluster</th>\n",
       "      <td>0.015952</td>\n",
       "      <td>-0.016643</td>\n",
       "      <td>-0.085593</td>\n",
       "      <td>0.028343</td>\n",
       "      <td>0.118572</td>\n",
       "      <td>0.461454</td>\n",
       "      <td>1.000000</td>\n",
       "    </tr>\n",
       "  </tbody>\n",
       "</table>\n",
       "</div>"
      ],
      "text/plain": [
       "              Unnamed: 0  altitude  Distance  Pitch angle  Velocity  \\\n",
       "Unnamed: 0      1.000000  0.011730 -0.004682    -0.006497  0.016020   \n",
       "altitude        0.011730  1.000000  0.385070     0.211981  0.809366   \n",
       "Distance       -0.004682  0.385070  1.000000    -0.120772  0.470009   \n",
       "Pitch angle    -0.006497  0.211981 -0.120772     1.000000  0.240112   \n",
       "Velocity        0.016020  0.809366  0.470009     0.240112  1.000000   \n",
       "Acceleration   -0.003677  0.044259 -0.065849     0.039662  0.152998   \n",
       "Cluster         0.015952 -0.016643 -0.085593     0.028343  0.118572   \n",
       "\n",
       "              Acceleration   Cluster  \n",
       "Unnamed: 0       -0.003677  0.015952  \n",
       "altitude          0.044259 -0.016643  \n",
       "Distance         -0.065849 -0.085593  \n",
       "Pitch angle       0.039662  0.028343  \n",
       "Velocity          0.152998  0.118572  \n",
       "Acceleration      1.000000  0.461454  \n",
       "Cluster           0.461454  1.000000  "
      ]
     },
     "execution_count": 25,
     "metadata": {},
     "output_type": "execute_result"
    }
   ],
   "source": [
    "df1.corr()"
   ]
  },
  {
   "cell_type": "code",
   "execution_count": 26,
   "metadata": {},
   "outputs": [],
   "source": [
    "import seaborn as sns"
   ]
  },
  {
   "cell_type": "code",
   "execution_count": 27,
   "metadata": {},
   "outputs": [],
   "source": [
    "df1.dropna(inplace=True)"
   ]
  },
  {
   "cell_type": "code",
   "execution_count": 28,
   "metadata": {},
   "outputs": [
    {
     "data": {
      "text/plain": [
       "<matplotlib.axes._subplots.AxesSubplot at 0x2dbb7091d30>"
      ]
     },
     "execution_count": 28,
     "metadata": {},
     "output_type": "execute_result"
    },
    {
     "data": {
      "image/png": "[encoded data removed]",
      "text/plain": [
       "<Figure size 720x720 with 1 Axes>"
      ]
     },
     "metadata": {
      "needs_background": "light"
     },
     "output_type": "display_data"
    }
   ],
   "source": [
    "plt.figure(figsize=(10,10))\n",
    "sns.heatmap(df1.isnull(), yticklabels=False, cbar=False, cmap='viridis')"
   ]
  },
  {
   "cell_type": "code",
   "execution_count": 29,
   "metadata": {},
   "outputs": [
    {
     "data": {
      "image/png": "[encoded data removed]",
      "text/plain": [
       "<Figure size 864x720 with 2 Axes>"
      ]
     },
     "metadata": {
      "needs_background": "light"
     },
     "output_type": "display_data"
    }
   ],
   "source": [
    "plt.figure( figsize = (12,10) )\n",
    "sns.heatmap(df1.corr(), annot = True );\n",
    "plt.title('Heatmap depicting correlation between features');"
   ]
  },
  {
   "cell_type": "code",
   "execution_count": 30,
   "metadata": {},
   "outputs": [
    {
     "data": {
      "text/html": [
       "<div>\n",
       "<style scoped>\n",
       "    .dataframe tbody tr th:only-of-type {\n",
       "        vertical-align: middle;\n",
       "    }\n",
       "\n",
       "    .dataframe tbody tr th {\n",
       "        vertical-align: top;\n",
       "    }\n",
       "\n",
       "    .dataframe thead th {\n",
       "        text-align: right;\n",
       "    }\n",
       "</style>\n",
       "<table border=\"1\" class=\"dataframe\">\n",
       "  <thead>\n",
       "    <tr style=\"text-align: right;\">\n",
       "      <th></th>\n",
       "      <th>Unnamed: 0</th>\n",
       "      <th>altitude</th>\n",
       "      <th>Distance</th>\n",
       "      <th>Pitch angle</th>\n",
       "      <th>Velocity</th>\n",
       "      <th>Acceleration</th>\n",
       "      <th>Cluster</th>\n",
       "    </tr>\n",
       "  </thead>\n",
       "  <tbody>\n",
       "    <tr>\n",
       "      <th>0</th>\n",
       "      <td>0</td>\n",
       "      <td>390.00</td>\n",
       "      <td>806.0000</td>\n",
       "      <td>-166.714286</td>\n",
       "      <td>8.663723</td>\n",
       "      <td>14.308378</td>\n",
       "      <td>0</td>\n",
       "    </tr>\n",
       "    <tr>\n",
       "      <th>1</th>\n",
       "      <td>1</td>\n",
       "      <td>10417.33</td>\n",
       "      <td>542.4081</td>\n",
       "      <td>-9.000000</td>\n",
       "      <td>886.000000</td>\n",
       "      <td>1697.318008</td>\n",
       "      <td>0</td>\n",
       "    </tr>\n",
       "    <tr>\n",
       "      <th>2</th>\n",
       "      <td>2</td>\n",
       "      <td>387.00</td>\n",
       "      <td>881.0000</td>\n",
       "      <td>-343.821429</td>\n",
       "      <td>7.812535</td>\n",
       "      <td>8.245419</td>\n",
       "      <td>0</td>\n",
       "    </tr>\n",
       "    <tr>\n",
       "      <th>3</th>\n",
       "      <td>3</td>\n",
       "      <td>10412.03</td>\n",
       "      <td>422.1578</td>\n",
       "      <td>86.000000</td>\n",
       "      <td>883.000000</td>\n",
       "      <td>2102.380952</td>\n",
       "      <td>0</td>\n",
       "    </tr>\n",
       "    <tr>\n",
       "      <th>4</th>\n",
       "      <td>4</td>\n",
       "      <td>213.00</td>\n",
       "      <td>1142.0000</td>\n",
       "      <td>-380.071429</td>\n",
       "      <td>7.638315</td>\n",
       "      <td>7.506944</td>\n",
       "      <td>0</td>\n",
       "    </tr>\n",
       "  </tbody>\n",
       "</table>\n",
       "</div>"
      ],
      "text/plain": [
       "   Unnamed: 0  altitude   Distance  Pitch angle    Velocity  Acceleration  \\\n",
       "0           0    390.00   806.0000  -166.714286    8.663723     14.308378   \n",
       "1           1  10417.33   542.4081    -9.000000  886.000000   1697.318008   \n",
       "2           2    387.00   881.0000  -343.821429    7.812535      8.245419   \n",
       "3           3  10412.03   422.1578    86.000000  883.000000   2102.380952   \n",
       "4           4    213.00  1142.0000  -380.071429    7.638315      7.506944   \n",
       "\n",
       "   Cluster  \n",
       "0        0  \n",
       "1        0  \n",
       "2        0  \n",
       "3        0  \n",
       "4        0  "
      ]
     },
     "execution_count": 30,
     "metadata": {},
     "output_type": "execute_result"
    }
   ],
   "source": [
    "df1.head()"
   ]
  },
  {
   "cell_type": "code",
   "execution_count": 31,
   "metadata": {},
   "outputs": [],
   "source": [
    "X_features=['Distance','Pitch angle','Velocity','Acceleration']\n",
    "encoded_df=df1[X_features]"
   ]
  },
  {
   "cell_type": "code",
   "execution_count": 32,
   "metadata": {},
   "outputs": [],
   "source": [
    "from sklearn.model_selection import train_test_split\n",
    "\n",
    "X = encoded_df\n",
    "Y = df1['Cluster']\n",
    "\n",
    "train_X, test_X, train_y, test_y = train_test_split(X, Y, train_size = 0.8, random_state = 42)"
   ]
  },
  {
   "cell_type": "code",
   "execution_count": 33,
   "metadata": {},
   "outputs": [
    {
     "data": {
      "text/html": [
       "<table class=\"simpletable\">\n",
       "<tr>\n",
       "          <td>Model:</td>                 <td>OLS</td>       <td>Adj. R-squared (uncentered):</td>    <td>0.185</td>  \n",
       "</tr>\n",
       "<tr>\n",
       "    <td>Dependent Variable:</td>        <td>Cluster</td>                 <td>AIC:</td>             <td>-1281.7696</td>\n",
       "</tr>\n",
       "<tr>\n",
       "           <td>Date:</td>          <td>2020-08-03 14:49</td>             <td>BIC:</td>             <td>-1257.5770</td>\n",
       "</tr>\n",
       "<tr>\n",
       "     <td>No. Observations:</td>          <td>3128</td>              <td>Log-Likelihood:</td>         <td>644.88</td>  \n",
       "</tr>\n",
       "<tr>\n",
       "         <td>Df Model:</td>                <td>4</td>                <td>F-statistic:</td>            <td>178.7</td>  \n",
       "</tr>\n",
       "<tr>\n",
       "       <td>Df Residuals:</td>            <td>3124</td>            <td>Prob (F-statistic):</td>      <td>5.22e-138</td>\n",
       "</tr>\n",
       "<tr>\n",
       "  <td>R-squared (uncentered):</td>       <td>0.186</td>                 <td>Scale:</td>             <td>0.038816</td> \n",
       "</tr>\n",
       "</table>\n",
       "<table class=\"simpletable\">\n",
       "<tr>\n",
       "        <td></td>        <th>Coef.</th>  <th>Std.Err.</th>    <th>t</th>     <th>P>|t|</th> <th>[0.025</th>  <th>0.975]</th> \n",
       "</tr>\n",
       "<tr>\n",
       "  <th>Distance</th>     <td>-0.0000</td>  <td>0.0000</td>  <td>-5.9759</td> <td>0.0000</td> <td>-0.0001</td> <td>-0.0000</td>\n",
       "</tr>\n",
       "<tr>\n",
       "  <th>Pitch angle</th>  <td>-0.0000</td>  <td>0.0000</td>  <td>-2.7363</td> <td>0.0062</td> <td>-0.0001</td> <td>-0.0000</td>\n",
       "</tr>\n",
       "<tr>\n",
       "  <th>Velocity</th>     <td>0.0001</td>   <td>0.0000</td>  <td>7.1555</td>  <td>0.0000</td> <td>0.0001</td>  <td>0.0001</td> \n",
       "</tr>\n",
       "<tr>\n",
       "  <th>Acceleration</th> <td>0.0000</td>   <td>0.0000</td>  <td>23.5343</td> <td>0.0000</td> <td>0.0000</td>  <td>0.0000</td> \n",
       "</tr>\n",
       "</table>\n",
       "<table class=\"simpletable\">\n",
       "<tr>\n",
       "     <td>Omnibus:</td>    <td>4994.456</td>  <td>Durbin-Watson:</td>      <td>1.994</td>   \n",
       "</tr>\n",
       "<tr>\n",
       "  <td>Prob(Omnibus):</td>   <td>0.000</td>  <td>Jarque-Bera (JB):</td> <td>3973144.208</td>\n",
       "</tr>\n",
       "<tr>\n",
       "       <td>Skew:</td>      <td>10.098</td>      <td>Prob(JB):</td>        <td>0.000</td>   \n",
       "</tr>\n",
       "<tr>\n",
       "     <td>Kurtosis:</td>    <td>176.426</td>  <td>Condition No.:</td>       <td>43</td>     \n",
       "</tr>\n",
       "</table>"
      ],
      "text/plain": [
       "<class 'statsmodels.iolib.summary2.Summary'>\n",
       "\"\"\"\n",
       "                        Results: Ordinary least squares\n",
       "================================================================================\n",
       "Model:                  OLS              Adj. R-squared (uncentered): 0.185     \n",
       "Dependent Variable:     Cluster          AIC:                         -1281.7696\n",
       "Date:                   2020-08-03 14:49 BIC:                         -1257.5770\n",
       "No. Observations:       3128             Log-Likelihood:              644.88    \n",
       "Df Model:               4                F-statistic:                 178.7     \n",
       "Df Residuals:           3124             Prob (F-statistic):          5.22e-138 \n",
       "R-squared (uncentered): 0.186            Scale:                       0.038816  \n",
       "------------------------------------------------------------------------------------\n",
       "                  Coef.      Std.Err.        t        P>|t|       [0.025      0.975]\n",
       "------------------------------------------------------------------------------------\n",
       "Distance         -0.0000       0.0000     -5.9759     0.0000     -0.0001     -0.0000\n",
       "Pitch angle      -0.0000       0.0000     -2.7363     0.0062     -0.0001     -0.0000\n",
       "Velocity          0.0001       0.0000      7.1555     0.0000      0.0001      0.0001\n",
       "Acceleration      0.0000       0.0000     23.5343     0.0000      0.0000      0.0000\n",
       "--------------------------------------------------------------------------------\n",
       "Omnibus:                4994.456          Durbin-Watson:             1.994      \n",
       "Prob(Omnibus):          0.000             Jarque-Bera (JB):          3973144.208\n",
       "Skew:                   10.098            Prob(JB):                  0.000      \n",
       "Kurtosis:               176.426           Condition No.:             43         \n",
       "================================================================================\n",
       "\n",
       "\"\"\""
      ]
     },
     "execution_count": 33,
     "metadata": {},
     "output_type": "execute_result"
    }
   ],
   "source": [
    "model_1 = sm.OLS(train_y, train_X).fit()\n",
    "model_1.summary2()"
   ]
  },
  {
   "cell_type": "code",
   "execution_count": 34,
   "metadata": {},
   "outputs": [],
   "source": [
    "from statsmodels.stats.outliers_influence import variance_inflation_factor\n",
    "def get_vif_factors( X ):\n",
    "    X_matrix = X.values\n",
    "    vif = [ variance_inflation_factor( X_matrix, i ) for i in range( X_matrix.shape[1] )]\n",
    "    vif_factors = pd.DataFrame()\n",
    "    vif_factors['column'] = X.columns\n",
    "    vif_factors['VIF'] = vif\n",
    "    return vif_factors"
   ]
  },
  {
   "cell_type": "code",
   "execution_count": 35,
   "metadata": {},
   "outputs": [
    {
     "data": {
      "text/html": [
       "<div>\n",
       "<style scoped>\n",
       "    .dataframe tbody tr th:only-of-type {\n",
       "        vertical-align: middle;\n",
       "    }\n",
       "\n",
       "    .dataframe tbody tr th {\n",
       "        vertical-align: top;\n",
       "    }\n",
       "\n",
       "    .dataframe thead th {\n",
       "        text-align: right;\n",
       "    }\n",
       "</style>\n",
       "<table border=\"1\" class=\"dataframe\">\n",
       "  <thead>\n",
       "    <tr style=\"text-align: right;\">\n",
       "      <th></th>\n",
       "      <th>column</th>\n",
       "      <th>VIF</th>\n",
       "    </tr>\n",
       "  </thead>\n",
       "  <tbody>\n",
       "    <tr>\n",
       "      <th>0</th>\n",
       "      <td>Distance</td>\n",
       "      <td>2.572561</td>\n",
       "    </tr>\n",
       "    <tr>\n",
       "      <th>1</th>\n",
       "      <td>Pitch angle</td>\n",
       "      <td>1.253318</td>\n",
       "    </tr>\n",
       "    <tr>\n",
       "      <th>2</th>\n",
       "      <td>Velocity</td>\n",
       "      <td>2.342681</td>\n",
       "    </tr>\n",
       "    <tr>\n",
       "      <th>3</th>\n",
       "      <td>Acceleration</td>\n",
       "      <td>1.058960</td>\n",
       "    </tr>\n",
       "  </tbody>\n",
       "</table>\n",
       "</div>"
      ],
      "text/plain": [
       "         column       VIF\n",
       "0      Distance  2.572561\n",
       "1   Pitch angle  1.253318\n",
       "2      Velocity  2.342681\n",
       "3  Acceleration  1.058960"
      ]
     },
     "execution_count": 35,
     "metadata": {},
     "output_type": "execute_result"
    }
   ],
   "source": [
    "vif_factors = get_vif_factors(encoded_df[X_features])\n",
    "vif_factors"
   ]
  },
  {
   "cell_type": "code",
   "execution_count": 36,
   "metadata": {},
   "outputs": [
    {
     "data": {
      "text/plain": [
       "Index(['Distance', 'Pitch angle', 'Velocity', 'Acceleration'], dtype='object')"
      ]
     },
     "execution_count": 36,
     "metadata": {},
     "output_type": "execute_result"
    }
   ],
   "source": [
    "encoded_df.columns"
   ]
  },
  {
   "cell_type": "code",
   "execution_count": 37,
   "metadata": {},
   "outputs": [],
   "source": [
    "from scipy.stats import pearsonr "
   ]
  },
  {
   "cell_type": "code",
   "execution_count": 38,
   "metadata": {},
   "outputs": [
    {
     "name": "stdout",
     "output_type": "stream",
     "text": [
      "Pearsons correlation: -0.086  Distance\n",
      "Pearsons correlation: 0.028  Pitch angle\n",
      "Pearsons correlation: 0.119  Velocity\n",
      "Pearsons correlation: 0.461  Acceleration\n"
     ]
    }
   ],
   "source": [
    "a = encoded_df.columns\n",
    "for i in a:\n",
    "    list1 = encoded_df[i] \n",
    "    list2 = df1['Cluster']\n",
    "    corr, _ = pearsonr(list1, list2) \n",
    "    print('Pearsons correlation: %.3f  ' % corr, end=\"\")\n",
    "    print(i)"
   ]
  },
  {
   "cell_type": "code",
   "execution_count": 39,
   "metadata": {},
   "outputs": [],
   "source": [
    "k=k_means.predict([[422.1578,86.000000,883.000000,2102.380952]])"
   ]
  },
  {
   "cell_type": "code",
   "execution_count": 40,
   "metadata": {},
   "outputs": [
    {
     "name": "stdout",
     "output_type": "stream",
     "text": [
      "Flight\n"
     ]
    }
   ],
   "source": [
    "dict={0:'Flight',1:'UAV',2:'Missile',3:'Helicopter'}\n",
    "for i in k:\n",
    "    print (dict[i])"
   ]
  },
  {
   "cell_type": "code",
   "execution_count": 41,
   "metadata": {},
   "outputs": [],
   "source": [
    "k1 = k_means.predict([[0.190934, -7.0, 882.0, 441000.0]])"
   ]
  },
  {
   "cell_type": "code",
   "execution_count": 42,
   "metadata": {},
   "outputs": [
    {
     "name": "stdout",
     "output_type": "stream",
     "text": [
      "UAV\n"
     ]
    }
   ],
   "source": [
    "for i in k1:\n",
    "    print (dict[i])"
   ]
  },
  {
   "cell_type": "code",
   "execution_count": 43,
   "metadata": {},
   "outputs": [],
   "source": [
    "k2 = k_means.predict([[2.053248, 29.0, 901.0, 150166.6667]])"
   ]
  },
  {
   "cell_type": "code",
   "execution_count": 45,
   "metadata": {},
   "outputs": [
    {
     "name": "stdout",
     "output_type": "stream",
     "text": [
      "Missile\n"
     ]
    }
   ],
   "source": [
    "for i in k2:\n",
    "    print (dict[i])\n",
    "    "
   ]
  },
  {
   "cell_type": "code",
   "execution_count": 46,
   "metadata": {},
   "outputs": [],
   "source": [
    "k3 = k_means.predict([[5.948554, -57.0, 884.00, 63142.85714]])"
   ]
  },
  {
   "cell_type": "code",
   "execution_count": 47,
   "metadata": {},
   "outputs": [
    {
     "name": "stdout",
     "output_type": "stream",
     "text": [
      "Helicopter\n"
     ]
    }
   ],
   "source": [
    "for i in k3:\n",
    "    print (dict[i])"
   ]
  },
  {
   "cell_type": "code",
   "execution_count": 49,
   "metadata": {},
   "outputs": [
    {
     "data": {
      "text/plain": [
       "<matplotlib.axes._subplots.AxesSubplot at 0x2dbb76c2da0>"
      ]
     },
     "execution_count": 49,
     "metadata": {},
     "output_type": "execute_result"
    },
    {
     "data": {
      "image/png": "[encoded data removed]",
      "text/plain": [
       "<Figure size 432x288 with 1 Axes>"
      ]
     },
     "metadata": {
      "needs_background": "light"
     },
     "output_type": "display_data"
    }
   ],
   "source": [
    "import seaborn as sns\n",
    "sns.swarmplot(df2.Cluster,df2['altitude'])"
   ]
  },
  {
   "cell_type": "code",
   "execution_count": null,
   "metadata": {},
   "outputs": [],
   "source": []
  }
 ],
 "metadata": {
  "kernelspec": {
   "display_name": "Python 3",
   "language": "python",
   "name": "python3"
  },
  "language_info": {
   "codemirror_mode": {
    "name": "ipython",
    "version": 3
   },
   "file_extension": ".py",
   "mimetype": "text/x-python",
   "name": "python",
   "nbconvert_exporter": "python",
   "pygments_lexer": "ipython3",
   "version": "3.7.3"
  }
 },
 "nbformat": 4,
 "nbformat_minor": 2
}
